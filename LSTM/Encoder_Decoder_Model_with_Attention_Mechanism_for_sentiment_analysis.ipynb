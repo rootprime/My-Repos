{
  "cells": [
    {
      "cell_type": "markdown",
      "metadata": {
        "id": "ULBRUBx2cB6n"
      },
      "source": [
        "## **Problem Statement**:\n",
        "\n",
        "The goal is to create an encoder-decoder model with attention mechanism for **sentiment analysis**. The model should be able to understand the meaning and emotions of a given input sentence and output a ***sentiment score between -1 (negative) and 1 (positive), with 0 being neutral. This can be used in call centers to analyze the evolution of a client's emotions and their reactions to certain keywords or company discounts.\n",
        "\n",
        "Solution:\n",
        "We'll be using the TensorFlow library to create our sentiment analysis model. In this example, we will be using the IMDB movie review dataset to train and test our model."
      ]
    },
    {
      "cell_type": "markdown",
      "metadata": {
        "id": "dc-oSp7wgbJ_"
      },
      "source": [
        "\n",
        "### **Steps Involved**\n",
        "\n",
        "> **Import necessary libraries and modules**:\n",
        "Import NumPy, TensorFlow, and other necessary modules for creating and training the model.\n",
        "\n",
        "> **Load and preprocess the dataset**:\n",
        "Load the IMDB dataset and preprocess it by padding the sequences and scaling the target values between -1 and 1.\n",
        "\n",
        "> **Define the model parameters**:\n",
        "Set the vocabulary size, embedding size, and LSTM units for the model.\n",
        "\n",
        "> **Build the encoder**:\n",
        "Create an input layer, an embedding layer, and a bidirectional LSTM layer for the encoder.\n",
        "\n",
        "> **Build the decoder**:\n",
        "Create an LSTM layer for the decoder, using the states from the encoder as initial states.\n",
        "\n",
        ">**Implement the attention mechanism**:\n",
        "Add an additive attention layer and a global average pooling layer to combine the outputs from the encoder and decoder.\n",
        "\n",
        "> **Create the output layer**:\n",
        "Add a dense layer with a 'tanh' activation function to output the sentiment score.\n",
        "\n",
        "> **Compile the model**:\n",
        "Compile the model using the 'adam' optimizer, 'mean_squared_error' loss function, and 'accuracy' as a metric.\n",
        "\n",
        "> **Train the model**:\n",
        "Train the model on the IMDB dataset for 5 epochs with a batch size of 32 and using validation data.\n",
        "\n",
        "> **Create the sentiment_analysis function**:\n",
        "Define a function that takes an input text, tokenizes it, pads it, and feeds it to the trained model to get the sentiment score.\n",
        "\n",
        "> **Test the model**:\n",
        "Test the sentiment_analysis function with an example text and print the sentiment score.\n",
        "\n",
        "These steps guide you through the process of building, training, and testing an encoder-decoder model with an attention mechanism for sentiment analysis."
      ]
    },
    {
      "cell_type": "code",
      "execution_count": null,
      "metadata": {
        "colab": {
          "background_save": true,
          "base_uri": "https://localhost:8080/"
        },
        "id": "kmi9_aHJb3rW",
        "outputId": "5fa4394a-417b-4767-ba19-c7df3a8c2a14"
      },
      "outputs": [
        {
          "output_type": "stream",
          "name": "stdout",
          "text": [
            "Downloading data from https://storage.googleapis.com/tensorflow/tf-keras-datasets/imdb.npz\n",
            "17464789/17464789 [==============================] - 0s 0us/step\n",
            "Epoch 1/5\n",
            "  5/782 [..............................] - ETA: 1:00:39 - loss: 1.0035 - accuracy: 0.0000e+00"
          ]
        }
      ],
      "source": [
        "import numpy as np\n",
        "import tensorflow as tf\n",
        "from tensorflow.keras.layers import Input, Dense, LSTM, Embedding, Bidirectional, TimeDistributed\n",
        "from tensorflow.keras.models import Model\n",
        "from tensorflow.keras.preprocessing.text import Tokenizer\n",
        "from tensorflow.keras.preprocessing.sequence import pad_sequences\n",
        "from sklearn.model_selection import train_test_split\n",
        "\n",
        "# Load and preprocess the dataset\n",
        "(x_train, y_train), (x_test, y_test) = tf.keras.datasets.imdb.load_data(num_words=5000)\n",
        "max_len = 200\n",
        "x_train = pad_sequences(x_train, maxlen=max_len)\n",
        "x_test = pad_sequences(x_test, maxlen=max_len)\n",
        "y_train = y_train * 2 - 1\n",
        "y_test = y_test * 2 - 1\n",
        "\n",
        "# Model parameters\n",
        "vocab_size = 5000\n",
        "embedding_size = 128\n",
        "lstm_units = 64\n",
        "\n",
        "# Encoder\n",
        "encoder_inputs = Input(shape=(max_len,))\n",
        "encoder_embedding = Embedding(vocab_size, embedding_size, mask_zero=True)(encoder_inputs)\n",
        "encoder_lstm = Bidirectional(LSTM(lstm_units, return_sequences=True, return_state=True))\n",
        "encoder_outputs, forward_h, forward_c, backward_h, backward_c = encoder_lstm(encoder_embedding)\n",
        "state_h = tf.keras.layers.Concatenate()([forward_h, backward_h])\n",
        "state_c = tf.keras.layers.Concatenate()([forward_c, backward_c])\n",
        "\n",
        "# Decoder\n",
        "decoder_lstm = LSTM(lstm_units * 2, return_sequences=True, return_state=True)\n",
        "decoder_outputs, _, _ = decoder_lstm(encoder_outputs, initial_state=[state_h, state_c])\n",
        "\n",
        "# Attention mechanism\n",
        "attention = tf.keras.layers.AdditiveAttention()([decoder_outputs, encoder_outputs])\n",
        "context_vector = tf.keras.layers.GlobalAveragePooling1D()(attention)\n",
        "\n",
        "# Output layer\n",
        "output = Dense(1, activation='tanh')(context_vector)\n",
        "\n",
        "# Compile the model\n",
        "model = Model(encoder_inputs, output)\n",
        "model.compile(optimizer='adam', loss='mean_squared_error', metrics=['accuracy'])\n",
        "\n",
        "# Train the model\n",
        "model.fit(x_train, y_train, batch_size=32, epochs=5, validation_data=(x_test, y_test))\n",
        "\n",
        "# Sentiment analysis function\n",
        "def sentiment_analysis(text):\n",
        "    tokenizer = Tokenizer(num_words=vocab_size)\n",
        "    input_seq = tokenizer.texts_to_sequences([text])\n",
        "    input_seq = pad_sequences(input_seq, maxlen=max_len)\n",
        "    sentiment_score = model.predict(input_seq)\n",
        "    return sentiment_score\n",
        "\n",
        "# Test the model\n",
        "text = \"The customer service was excellent, and I loved the discount!\"\n",
        "sentiment_score = sentiment_analysis(text)\n",
        "print(\"Sentiment Score:\", sentiment_score)\n"
      ]
    }
  ],
  "metadata": {
    "colab": {
      "provenance": []
    },
    "kernelspec": {
      "display_name": "Python 3",
      "name": "python3"
    },
    "language_info": {
      "name": "python"
    }
  },
  "nbformat": 4,
  "nbformat_minor": 0
}